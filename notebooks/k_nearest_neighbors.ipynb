{
 "cells": [
  {
   "cell_type": "markdown",
   "id": "b0666fed",
   "metadata": {},
   "source": [
    "# K-Nearest Neighbors Algorithm\n",
    "\n",
    "The k-nearest neighbors (KNN) algorithm is a non-parametric, supervised learning classifier, which uses the proximity of an individual data point to a group of data points to make classifications about the grouping of an individual data point."
   ]
  },
  {
   "cell_type": "code",
   "execution_count": null,
   "id": "c4a9e757",
   "metadata": {},
   "outputs": [],
   "source": [
    "# Load packages\n",
    "import pandas as pd\n",
    "import matplotlib.pyplot as plt\n",
    "import seaborn as sns\n",
    "from sklearn.model_selection import train_test_split\n",
    "from sklearn.neighbors import KNeighborsClassifier"
   ]
  },
  {
   "cell_type": "markdown",
   "id": "1892ab7c",
   "metadata": {},
   "source": [
    "## Dataset\n",
    "\n",
    "Our dataset classifies water potability based on nine chemical measurables. All of these columns are numercial, while the potability is a categorical column."
   ]
  },
  {
   "cell_type": "code",
   "execution_count": null,
   "id": "1de6de11",
   "metadata": {},
   "outputs": [],
   "source": [
    "# Load the dataframe\n",
    "df = pd.read_csv('water_potability.csv')\n",
    "print(df.shape)\n",
    "df.head()"
   ]
  },
  {
   "cell_type": "markdown",
   "id": "0b0f0d9a",
   "metadata": {},
   "source": [
    "**Cleaning**"
   ]
  },
  {
   "cell_type": "code",
   "execution_count": null,
   "id": "5c36a762",
   "metadata": {},
   "outputs": [],
   "source": [
    "# Check for null values\n",
    "df.isna().sum()"
   ]
  },
  {
   "cell_type": "markdown",
   "id": "13a03847",
   "metadata": {},
   "source": [
    "There are some null values in the ph, Sulfate and Trihalomethanes columns. We check for mean and median to identify possible outliers in order to fill the NaN values reasonably. For a dataset of 3200 rows dropping ~1000 rows skews the data too."
   ]
  },
  {
   "cell_type": "code",
   "execution_count": null,
   "id": "1e0fdb4d",
   "metadata": {},
   "outputs": [],
   "source": [
    "# Display mean and median of column with missing values\n",
    "print(f\"Mean ph value = {df['ph'].mean()}\")\n",
    "print(f\"Median ph value = {df['ph'].median()}\")\n",
    "print('\\n')\n",
    "print(f\"Mean Sulfate value = {df['Sulfate'].mean()}\")\n",
    "print(f\"Median Sulfate value = {df['Sulfate'].median()}\")\n",
    "print('\\n')\n",
    "print(f\"Mean Trihalomethanes value = {df['Trihalomethanes'].mean()}\")\n",
    "print(f\"Median Trihalomethanes value = {df['Trihalomethanes'].median()}\")"
   ]
  },
  {
   "cell_type": "markdown",
   "id": "ccb365db",
   "metadata": {},
   "source": [
    "We see that for each column mean and median are almost equal, so we can deduct that there are no extreme outliers and we can safely use the mean to fill ne missing values."
   ]
  },
  {
   "cell_type": "code",
   "execution_count": null,
   "id": "abaf4166",
   "metadata": {},
   "outputs": [],
   "source": [
    "# Filling missing values with the column mean\n",
    "df['Trihalomethanes'] = df['Trihalomethanes'].fillna(df['Trihalomethanes'].mean())\n",
    "df['Trihalomethanes'] = df['Trihalomethanes'].infer_objects(copy=False)\n",
    "\n",
    "df['ph'] = df['ph'].fillna(df['ph'].mean())\n",
    "df['ph'] = df['ph'].infer_objects(copy=False)\n",
    "\n",
    "df['Sulfate'] = df['Sulfate'].fillna(df['Sulfate'].mean())\n",
    "df['Sulfate'] = df['Sulfate'].infer_objects(copy=False)"
   ]
  },
  {
   "cell_type": "code",
   "execution_count": null,
   "id": "a0e58353",
   "metadata": {},
   "outputs": [],
   "source": [
    "# Check the column datatypes\n",
    "df.info()"
   ]
  },
  {
   "cell_type": "markdown",
   "id": "f82cc658",
   "metadata": {},
   "source": [
    "As desired all columns are floats (numerical) except the potability column which has the datatype of integer for classification (equivalent to boolean).\n",
    "\n",
    "0 = non-potable (False)\n",
    "\n",
    "1 = potable (True)"
   ]
  },
  {
   "cell_type": "markdown",
   "id": "0e40d551",
   "metadata": {},
   "source": [
    "**Exploratory Data Analysis**"
   ]
  },
  {
   "cell_type": "code",
   "execution_count": null,
   "id": "4853bc18",
   "metadata": {},
   "outputs": [],
   "source": [
    "# Plot pairwise relationships in a dataset\n",
    "sns.pairplot(df, hue=\"Potability\");"
   ]
  },
  {
   "cell_type": "markdown",
   "id": "a2dd7d83",
   "metadata": {},
   "source": [
    "The pairplots illustrate that there is no relationship between two columns that enables unambigious grouping. This is crucial for an accurate application of the knn algorithm."
   ]
  },
  {
   "cell_type": "markdown",
   "id": "0d86f234",
   "metadata": {},
   "source": [
    "# KNN Algorithm\n",
    "\n",
    "m = number of features\n",
    "\n",
    "For each test set data point we calculate the distance of this data point to all train set data points in the m-dimensional space. By setting n we define the n nearest neighbors of the test data point. The resulting class of the test data point is the class average of its n neighbors."
   ]
  },
  {
   "cell_type": "markdown",
   "id": "84eb1711",
   "metadata": {},
   "source": [
    "**Features and target**"
   ]
  },
  {
   "cell_type": "code",
   "execution_count": null,
   "id": "443810f2",
   "metadata": {},
   "outputs": [],
   "source": [
    "# Define feature (chemical measurables) and target (potability classification) columns\n",
    "features = df.drop(columns = [\"Potability\"])\n",
    "target = df[\"Potability\"]"
   ]
  },
  {
   "cell_type": "markdown",
   "id": "90302341",
   "metadata": {},
   "source": [
    "**Train, test, and split groups**"
   ]
  },
  {
   "cell_type": "code",
   "execution_count": null,
   "id": "e6668a8e",
   "metadata": {},
   "outputs": [],
   "source": [
    "# Set the size of the test group to 20% of the total dataset\n",
    "X_train, X_test, y_train, y_test = train_test_split(features, target, test_size=0.20, random_state=0)"
   ]
  },
  {
   "cell_type": "code",
   "execution_count": null,
   "id": "5a9b0b6f",
   "metadata": {},
   "outputs": [],
   "source": [
    "# Create an instance of the knn classifier without setting the number of nearest neighbors\n",
    "knn = KNeighborsClassifier()"
   ]
  },
  {
   "cell_type": "code",
   "execution_count": null,
   "id": "3bed88d1",
   "metadata": {},
   "outputs": [],
   "source": [
    "# Train the model with the training features and target\n",
    "knn.fit(X_train, y_train)"
   ]
  },
  {
   "cell_type": "code",
   "execution_count": null,
   "id": "3dc0d1a3",
   "metadata": {},
   "outputs": [],
   "source": [
    "# Make a prediction for the water potability of the test group\n",
    "pred = knn.predict(X_test)\n",
    "pred[:10]"
   ]
  },
  {
   "cell_type": "code",
   "execution_count": null,
   "id": "6f92b7dc",
   "metadata": {},
   "outputs": [],
   "source": [
    "y_test.values[:10]"
   ]
  },
  {
   "cell_type": "markdown",
   "id": "599d7f6c",
   "metadata": {},
   "source": [
    "When comparing the predicted potability with the correct potability we see that many predictions are wrong. We calculate the accuracy to numerically assess the ratio of the number of true predictions to the number of all predictions."
   ]
  },
  {
   "cell_type": "code",
   "execution_count": null,
   "id": "98d83b10",
   "metadata": {},
   "outputs": [],
   "source": [
    "knn.score(X_test, y_test)"
   ]
  }
 ],
 "metadata": {
  "kernelspec": {
   "display_name": "Python 3 (ipykernel)",
   "language": "python",
   "name": "python3"
  },
  "language_info": {
   "codemirror_mode": {
    "name": "ipython",
    "version": 3
   },
   "file_extension": ".py",
   "mimetype": "text/x-python",
   "name": "python",
   "nbconvert_exporter": "python",
   "pygments_lexer": "ipython3",
   "version": "3.9.20"
  }
 },
 "nbformat": 4,
 "nbformat_minor": 5
}
