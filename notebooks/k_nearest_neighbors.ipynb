{
 "cells": [
  {
   "cell_type": "markdown",
   "id": "b0666fed",
   "metadata": {},
   "source": [
    "# K-Nearest Neighbors Algorithm\n",
    "\n",
    "The k-nearest neighbors (KNN) algorithm is a non-parametric, supervised learning classifier, which uses the proximity of an individual data point to a group of data points to make classifications about the grouping of an individual data point."
   ]
  },
  {
   "cell_type": "code",
   "execution_count": 32,
   "id": "c4a9e757",
   "metadata": {},
   "outputs": [],
   "source": [
    "# Load packages\n",
    "import pandas as pd\n",
    "import matplotlib.pyplot as plt\n",
    "import seaborn as sns\n",
    "import numpy as np\n",
    "from sklearn.model_selection import train_test_split\n",
    "from sklearn.neighbors import KNeighborsClassifier, KNeighborsRegressor\n",
    "from sklearn.metrics import precision_score, recall_score, r2_score\n",
    "from sklearn.preprocessing import MinMaxScaler, StandardScaler"
   ]
  },
  {
   "cell_type": "markdown",
   "id": "1892ab7c",
   "metadata": {},
   "source": [
    "## Dataset\n",
    "\n",
    "Our dataset classifies water potability based on nine chemical measurables. All of these columns are numercial, while the potability is a categorical column."
   ]
  },
  {
   "cell_type": "code",
   "execution_count": 2,
   "id": "1de6de11",
   "metadata": {},
   "outputs": [
    {
     "name": "stdout",
     "output_type": "stream",
     "text": [
      "(3276, 10)\n"
     ]
    },
    {
     "data": {
      "text/html": [
       "<div>\n",
       "<style scoped>\n",
       "    .dataframe tbody tr th:only-of-type {\n",
       "        vertical-align: middle;\n",
       "    }\n",
       "\n",
       "    .dataframe tbody tr th {\n",
       "        vertical-align: top;\n",
       "    }\n",
       "\n",
       "    .dataframe thead th {\n",
       "        text-align: right;\n",
       "    }\n",
       "</style>\n",
       "<table border=\"1\" class=\"dataframe\">\n",
       "  <thead>\n",
       "    <tr style=\"text-align: right;\">\n",
       "      <th></th>\n",
       "      <th>ph</th>\n",
       "      <th>Hardness</th>\n",
       "      <th>Solids</th>\n",
       "      <th>Chloramines</th>\n",
       "      <th>Sulfate</th>\n",
       "      <th>Conductivity</th>\n",
       "      <th>Organic_carbon</th>\n",
       "      <th>Trihalomethanes</th>\n",
       "      <th>Turbidity</th>\n",
       "      <th>Potability</th>\n",
       "    </tr>\n",
       "  </thead>\n",
       "  <tbody>\n",
       "    <tr>\n",
       "      <th>0</th>\n",
       "      <td>NaN</td>\n",
       "      <td>204.890455</td>\n",
       "      <td>20791.318981</td>\n",
       "      <td>7.300212</td>\n",
       "      <td>368.516441</td>\n",
       "      <td>564.308654</td>\n",
       "      <td>10.379783</td>\n",
       "      <td>86.990970</td>\n",
       "      <td>2.963135</td>\n",
       "      <td>0</td>\n",
       "    </tr>\n",
       "    <tr>\n",
       "      <th>1</th>\n",
       "      <td>3.716080</td>\n",
       "      <td>129.422921</td>\n",
       "      <td>18630.057858</td>\n",
       "      <td>6.635246</td>\n",
       "      <td>NaN</td>\n",
       "      <td>592.885359</td>\n",
       "      <td>15.180013</td>\n",
       "      <td>56.329076</td>\n",
       "      <td>4.500656</td>\n",
       "      <td>0</td>\n",
       "    </tr>\n",
       "    <tr>\n",
       "      <th>2</th>\n",
       "      <td>8.099124</td>\n",
       "      <td>224.236259</td>\n",
       "      <td>19909.541732</td>\n",
       "      <td>9.275884</td>\n",
       "      <td>NaN</td>\n",
       "      <td>418.606213</td>\n",
       "      <td>16.868637</td>\n",
       "      <td>66.420093</td>\n",
       "      <td>3.055934</td>\n",
       "      <td>0</td>\n",
       "    </tr>\n",
       "    <tr>\n",
       "      <th>3</th>\n",
       "      <td>8.316766</td>\n",
       "      <td>214.373394</td>\n",
       "      <td>22018.417441</td>\n",
       "      <td>8.059332</td>\n",
       "      <td>356.886136</td>\n",
       "      <td>363.266516</td>\n",
       "      <td>18.436524</td>\n",
       "      <td>100.341674</td>\n",
       "      <td>4.628771</td>\n",
       "      <td>0</td>\n",
       "    </tr>\n",
       "    <tr>\n",
       "      <th>4</th>\n",
       "      <td>9.092223</td>\n",
       "      <td>181.101509</td>\n",
       "      <td>17978.986339</td>\n",
       "      <td>6.546600</td>\n",
       "      <td>310.135738</td>\n",
       "      <td>398.410813</td>\n",
       "      <td>11.558279</td>\n",
       "      <td>31.997993</td>\n",
       "      <td>4.075075</td>\n",
       "      <td>0</td>\n",
       "    </tr>\n",
       "  </tbody>\n",
       "</table>\n",
       "</div>"
      ],
      "text/plain": [
       "         ph    Hardness        Solids  Chloramines     Sulfate  Conductivity  \\\n",
       "0       NaN  204.890455  20791.318981     7.300212  368.516441    564.308654   \n",
       "1  3.716080  129.422921  18630.057858     6.635246         NaN    592.885359   \n",
       "2  8.099124  224.236259  19909.541732     9.275884         NaN    418.606213   \n",
       "3  8.316766  214.373394  22018.417441     8.059332  356.886136    363.266516   \n",
       "4  9.092223  181.101509  17978.986339     6.546600  310.135738    398.410813   \n",
       "\n",
       "   Organic_carbon  Trihalomethanes  Turbidity  Potability  \n",
       "0       10.379783        86.990970   2.963135           0  \n",
       "1       15.180013        56.329076   4.500656           0  \n",
       "2       16.868637        66.420093   3.055934           0  \n",
       "3       18.436524       100.341674   4.628771           0  \n",
       "4       11.558279        31.997993   4.075075           0  "
      ]
     },
     "execution_count": 2,
     "metadata": {},
     "output_type": "execute_result"
    }
   ],
   "source": [
    "# Load the dataframe\n",
    "df = pd.read_csv('water_potability.csv')\n",
    "print(df.shape)\n",
    "df.head()"
   ]
  },
  {
   "cell_type": "markdown",
   "id": "0b0f0d9a",
   "metadata": {},
   "source": [
    "**Cleaning**"
   ]
  },
  {
   "cell_type": "code",
   "execution_count": 3,
   "id": "5c36a762",
   "metadata": {},
   "outputs": [
    {
     "data": {
      "text/plain": [
       "ph                 491\n",
       "Hardness             0\n",
       "Solids               0\n",
       "Chloramines          0\n",
       "Sulfate            781\n",
       "Conductivity         0\n",
       "Organic_carbon       0\n",
       "Trihalomethanes    162\n",
       "Turbidity            0\n",
       "Potability           0\n",
       "dtype: int64"
      ]
     },
     "execution_count": 3,
     "metadata": {},
     "output_type": "execute_result"
    }
   ],
   "source": [
    "# Check for null values\n",
    "df.isna().sum()"
   ]
  },
  {
   "cell_type": "markdown",
   "id": "13a03847",
   "metadata": {},
   "source": [
    "There are some null values in the ph, Sulfate and Trihalomethanes columns. We check for mean and median to identify possible outliers in order to fill the NaN values reasonably. For a dataset of 3200 rows dropping ~1000 rows skews the data too."
   ]
  },
  {
   "cell_type": "code",
   "execution_count": 4,
   "id": "1e0fdb4d",
   "metadata": {},
   "outputs": [
    {
     "name": "stdout",
     "output_type": "stream",
     "text": [
      "Mean ph value = 7.080794504276835\n",
      "Median ph value = 7.036752103833548\n",
      "\n",
      "\n",
      "Mean Sulfate value = 333.7757766108135\n",
      "Median Sulfate value = 333.073545745888\n",
      "\n",
      "\n",
      "Mean Trihalomethanes value = 66.39629294676803\n",
      "Median Trihalomethanes value = 66.62248509808484\n"
     ]
    }
   ],
   "source": [
    "# Display mean and median of column with missing values\n",
    "print(f\"Mean ph value = {df['ph'].mean()}\")\n",
    "print(f\"Median ph value = {df['ph'].median()}\")\n",
    "print('\\n')\n",
    "print(f\"Mean Sulfate value = {df['Sulfate'].mean()}\")\n",
    "print(f\"Median Sulfate value = {df['Sulfate'].median()}\")\n",
    "print('\\n')\n",
    "print(f\"Mean Trihalomethanes value = {df['Trihalomethanes'].mean()}\")\n",
    "print(f\"Median Trihalomethanes value = {df['Trihalomethanes'].median()}\")"
   ]
  },
  {
   "cell_type": "markdown",
   "id": "ccb365db",
   "metadata": {},
   "source": [
    "We see that for each column mean and median are almost equal, so we can deduct that there are no extreme outliers and we can safely use the mean to fill ne missing values."
   ]
  },
  {
   "cell_type": "code",
   "execution_count": 5,
   "id": "abaf4166",
   "metadata": {},
   "outputs": [],
   "source": [
    "# Filling missing values with the column mean\n",
    "df['Trihalomethanes'] = df['Trihalomethanes'].fillna(df['Trihalomethanes'].mean())\n",
    "df['Trihalomethanes'] = df['Trihalomethanes'].infer_objects(copy=False)\n",
    "\n",
    "df['ph'] = df['ph'].fillna(df['ph'].mean())\n",
    "df['ph'] = df['ph'].infer_objects(copy=False)\n",
    "\n",
    "df['Sulfate'] = df['Sulfate'].fillna(df['Sulfate'].mean())\n",
    "df['Sulfate'] = df['Sulfate'].infer_objects(copy=False)"
   ]
  },
  {
   "cell_type": "code",
   "execution_count": 6,
   "id": "a0e58353",
   "metadata": {},
   "outputs": [
    {
     "name": "stdout",
     "output_type": "stream",
     "text": [
      "<class 'pandas.core.frame.DataFrame'>\n",
      "RangeIndex: 3276 entries, 0 to 3275\n",
      "Data columns (total 10 columns):\n",
      " #   Column           Non-Null Count  Dtype  \n",
      "---  ------           --------------  -----  \n",
      " 0   ph               3276 non-null   float64\n",
      " 1   Hardness         3276 non-null   float64\n",
      " 2   Solids           3276 non-null   float64\n",
      " 3   Chloramines      3276 non-null   float64\n",
      " 4   Sulfate          3276 non-null   float64\n",
      " 5   Conductivity     3276 non-null   float64\n",
      " 6   Organic_carbon   3276 non-null   float64\n",
      " 7   Trihalomethanes  3276 non-null   float64\n",
      " 8   Turbidity        3276 non-null   float64\n",
      " 9   Potability       3276 non-null   int64  \n",
      "dtypes: float64(9), int64(1)\n",
      "memory usage: 256.1 KB\n"
     ]
    }
   ],
   "source": [
    "# Check the column datatypes\n",
    "df.info()"
   ]
  },
  {
   "cell_type": "markdown",
   "id": "f82cc658",
   "metadata": {},
   "source": [
    "As desired all columns are floats (numerical) except the potability column which has the datatype of integer for classification (equivalent to boolean).\n",
    "\n",
    "0 = non-potable (False)\n",
    "\n",
    "1 = potable (True)"
   ]
  },
  {
   "cell_type": "markdown",
   "id": "0e40d551",
   "metadata": {},
   "source": [
    "**Exploratory Data Analysis**"
   ]
  },
  {
   "cell_type": "code",
   "execution_count": 7,
   "id": "4853bc18",
   "metadata": {},
   "outputs": [],
   "source": [
    "# Plot pairwise relationships in a dataset\n",
    "#sns.pairplot(df, hue=\"Potability\");"
   ]
  },
  {
   "cell_type": "markdown",
   "id": "a2dd7d83",
   "metadata": {},
   "source": [
    "The pairplots illustrate that there is no relationship between two columns that enables unambigious grouping. This is crucial for an accurate application of the knn algorithm."
   ]
  },
  {
   "cell_type": "markdown",
   "id": "0d86f234",
   "metadata": {},
   "source": [
    "# KNN Algorithm\n",
    "\n",
    "m = number of features\n",
    "\n",
    "For each test set data point we calculate the distance of this data point to all train set data points in the m-dimensional space. By setting n we define the n nearest neighbors of the test data point. The resulting class of the test data point is the class average of its n neighbors."
   ]
  },
  {
   "cell_type": "markdown",
   "id": "84eb1711",
   "metadata": {},
   "source": [
    "**Features and target**"
   ]
  },
  {
   "cell_type": "code",
   "execution_count": 8,
   "id": "443810f2",
   "metadata": {},
   "outputs": [],
   "source": [
    "# Define feature (chemical measurables) and target (potability classification) columns\n",
    "features = df.drop(columns = [\"Potability\"])\n",
    "target = df[\"Potability\"]"
   ]
  },
  {
   "cell_type": "markdown",
   "id": "90302341",
   "metadata": {},
   "source": [
    "**Train, test, and split groups**"
   ]
  },
  {
   "cell_type": "code",
   "execution_count": 9,
   "id": "e6668a8e",
   "metadata": {},
   "outputs": [],
   "source": [
    "# Set the size of the test group to 20% of the total dataset\n",
    "X_train, X_test, y_train, y_test = train_test_split(features, target, test_size=0.20, random_state=0)"
   ]
  },
  {
   "cell_type": "code",
   "execution_count": 10,
   "id": "5a9b0b6f",
   "metadata": {},
   "outputs": [],
   "source": [
    "# Create an instance of the knn classifier without setting the number of nearest neighbors\n",
    "knn = KNeighborsClassifier()"
   ]
  },
  {
   "cell_type": "code",
   "execution_count": 11,
   "id": "3bed88d1",
   "metadata": {},
   "outputs": [
    {
     "data": {
      "text/html": [
       "<style>#sk-container-id-1 {color: black;background-color: white;}#sk-container-id-1 pre{padding: 0;}#sk-container-id-1 div.sk-toggleable {background-color: white;}#sk-container-id-1 label.sk-toggleable__label {cursor: pointer;display: block;width: 100%;margin-bottom: 0;padding: 0.3em;box-sizing: border-box;text-align: center;}#sk-container-id-1 label.sk-toggleable__label-arrow:before {content: \"▸\";float: left;margin-right: 0.25em;color: #696969;}#sk-container-id-1 label.sk-toggleable__label-arrow:hover:before {color: black;}#sk-container-id-1 div.sk-estimator:hover label.sk-toggleable__label-arrow:before {color: black;}#sk-container-id-1 div.sk-toggleable__content {max-height: 0;max-width: 0;overflow: hidden;text-align: left;background-color: #f0f8ff;}#sk-container-id-1 div.sk-toggleable__content pre {margin: 0.2em;color: black;border-radius: 0.25em;background-color: #f0f8ff;}#sk-container-id-1 input.sk-toggleable__control:checked~div.sk-toggleable__content {max-height: 200px;max-width: 100%;overflow: auto;}#sk-container-id-1 input.sk-toggleable__control:checked~label.sk-toggleable__label-arrow:before {content: \"▾\";}#sk-container-id-1 div.sk-estimator input.sk-toggleable__control:checked~label.sk-toggleable__label {background-color: #d4ebff;}#sk-container-id-1 div.sk-label input.sk-toggleable__control:checked~label.sk-toggleable__label {background-color: #d4ebff;}#sk-container-id-1 input.sk-hidden--visually {border: 0;clip: rect(1px 1px 1px 1px);clip: rect(1px, 1px, 1px, 1px);height: 1px;margin: -1px;overflow: hidden;padding: 0;position: absolute;width: 1px;}#sk-container-id-1 div.sk-estimator {font-family: monospace;background-color: #f0f8ff;border: 1px dotted black;border-radius: 0.25em;box-sizing: border-box;margin-bottom: 0.5em;}#sk-container-id-1 div.sk-estimator:hover {background-color: #d4ebff;}#sk-container-id-1 div.sk-parallel-item::after {content: \"\";width: 100%;border-bottom: 1px solid gray;flex-grow: 1;}#sk-container-id-1 div.sk-label:hover label.sk-toggleable__label {background-color: #d4ebff;}#sk-container-id-1 div.sk-serial::before {content: \"\";position: absolute;border-left: 1px solid gray;box-sizing: border-box;top: 0;bottom: 0;left: 50%;z-index: 0;}#sk-container-id-1 div.sk-serial {display: flex;flex-direction: column;align-items: center;background-color: white;padding-right: 0.2em;padding-left: 0.2em;position: relative;}#sk-container-id-1 div.sk-item {position: relative;z-index: 1;}#sk-container-id-1 div.sk-parallel {display: flex;align-items: stretch;justify-content: center;background-color: white;position: relative;}#sk-container-id-1 div.sk-item::before, #sk-container-id-1 div.sk-parallel-item::before {content: \"\";position: absolute;border-left: 1px solid gray;box-sizing: border-box;top: 0;bottom: 0;left: 50%;z-index: -1;}#sk-container-id-1 div.sk-parallel-item {display: flex;flex-direction: column;z-index: 1;position: relative;background-color: white;}#sk-container-id-1 div.sk-parallel-item:first-child::after {align-self: flex-end;width: 50%;}#sk-container-id-1 div.sk-parallel-item:last-child::after {align-self: flex-start;width: 50%;}#sk-container-id-1 div.sk-parallel-item:only-child::after {width: 0;}#sk-container-id-1 div.sk-dashed-wrapped {border: 1px dashed gray;margin: 0 0.4em 0.5em 0.4em;box-sizing: border-box;padding-bottom: 0.4em;background-color: white;}#sk-container-id-1 div.sk-label label {font-family: monospace;font-weight: bold;display: inline-block;line-height: 1.2em;}#sk-container-id-1 div.sk-label-container {text-align: center;}#sk-container-id-1 div.sk-container {/* jupyter's `normalize.less` sets `[hidden] { display: none; }` but bootstrap.min.css set `[hidden] { display: none !important; }` so we also need the `!important` here to be able to override the default hidden behavior on the sphinx rendered scikit-learn.org. See: https://github.com/scikit-learn/scikit-learn/issues/21755 */display: inline-block !important;position: relative;}#sk-container-id-1 div.sk-text-repr-fallback {display: none;}</style><div id=\"sk-container-id-1\" class=\"sk-top-container\"><div class=\"sk-text-repr-fallback\"><pre>KNeighborsClassifier()</pre><b>In a Jupyter environment, please rerun this cell to show the HTML representation or trust the notebook. <br />On GitHub, the HTML representation is unable to render, please try loading this page with nbviewer.org.</b></div><div class=\"sk-container\" hidden><div class=\"sk-item\"><div class=\"sk-estimator sk-toggleable\"><input class=\"sk-toggleable__control sk-hidden--visually\" id=\"sk-estimator-id-1\" type=\"checkbox\" checked><label for=\"sk-estimator-id-1\" class=\"sk-toggleable__label sk-toggleable__label-arrow\">KNeighborsClassifier</label><div class=\"sk-toggleable__content\"><pre>KNeighborsClassifier()</pre></div></div></div></div></div>"
      ],
      "text/plain": [
       "KNeighborsClassifier()"
      ]
     },
     "execution_count": 11,
     "metadata": {},
     "output_type": "execute_result"
    }
   ],
   "source": [
    "# Train the model with the training features and target\n",
    "knn.fit(X_train, y_train)"
   ]
  },
  {
   "cell_type": "code",
   "execution_count": 12,
   "id": "3dc0d1a3",
   "metadata": {},
   "outputs": [
    {
     "data": {
      "text/plain": [
       "array([1, 0, 0, 0, 0, 0, 0, 0, 0, 0])"
      ]
     },
     "execution_count": 12,
     "metadata": {},
     "output_type": "execute_result"
    }
   ],
   "source": [
    "# Make a prediction for the water potability of the test group\n",
    "y_pred = knn.predict(X_test)\n",
    "y_pred[:10]"
   ]
  },
  {
   "cell_type": "code",
   "execution_count": 13,
   "id": "6f92b7dc",
   "metadata": {},
   "outputs": [
    {
     "data": {
      "text/plain": [
       "array([1, 0, 0, 0, 0, 0, 1, 1, 1, 1])"
      ]
     },
     "execution_count": 13,
     "metadata": {},
     "output_type": "execute_result"
    }
   ],
   "source": [
    "y_test.values[:10]"
   ]
  },
  {
   "cell_type": "markdown",
   "id": "1f9c83ca-89e4-48f4-9db5-ab97bbb88a65",
   "metadata": {},
   "source": [
    "## Evaluation Metrics"
   ]
  },
  {
   "cell_type": "code",
   "execution_count": 14,
   "id": "98d83b10",
   "metadata": {},
   "outputs": [
    {
     "name": "stdout",
     "output_type": "stream",
     "text": [
      "Accuracy =  0.5457317073170732\n",
      "Precision =  0.36082474226804123\n",
      "Recall =  0.28688524590163933\n"
     ]
    }
   ],
   "source": [
    "accuracy = knn.score(X_test, y_test)\n",
    "precision = precision_score(y_test, y_pred, average='binary')\n",
    "recall = recall_score(y_test, y_pred, average='binary')\n",
    "print(f'Accuracy = ', accuracy)\n",
    "print(f\"Precision = \", precision)\n",
    "print(f\"Recall = \", recall)"
   ]
  },
  {
   "cell_type": "markdown",
   "id": "a8c53787-ad72-42aa-8f56-e3e037aaddfa",
   "metadata": {},
   "source": [
    "When comparing the predicted potability with the correct potability we see that many predictions are wrong. We calculate the accuracy, precision and recall and conduct that this algorithm is not appropiate for the experiment."
   ]
  },
  {
   "cell_type": "markdown",
   "id": "54aefa7d-e70c-4ab9-95ce-4b7dfb347024",
   "metadata": {},
   "source": [
    "# Feature Engineering"
   ]
  },
  {
   "cell_type": "markdown",
   "id": "623ff9bf-8a3f-4102-820f-766312ebe54e",
   "metadata": {},
   "source": [
    "**One hot encoding**"
   ]
  },
  {
   "cell_type": "markdown",
   "id": "1be7835a-89e5-490e-8419-05bd56088ff8",
   "metadata": {},
   "source": [
    "One hot encoding cannot be used here since there are only numerical features, no categorical ones."
   ]
  },
  {
   "cell_type": "markdown",
   "id": "11b7d668-c8f5-4482-bfcc-fc3539577855",
   "metadata": {},
   "source": [
    "# Feature Scaling"
   ]
  },
  {
   "cell_type": "code",
   "execution_count": 29,
   "id": "35bfd879-3ab9-4870-88de-996afe2e03c2",
   "metadata": {},
   "outputs": [],
   "source": [
    "# We initialize the MinMayScaler instance.\n",
    "normalizer = MinMaxScaler() \n",
    "\n",
    "# We fit our model to the feautures of the training set, while keeping in mind to only fit it to the training data in order to prevent data leakage.\n",
    "normalizer.fit(X_train)\n",
    "\n",
    "# We apply the normalizer function to the train and test feature data.\n",
    "X_train_norm = normalizer.transform(X_train)\n",
    "X_test_norm = normalizer.transform(X_test)\n",
    "\n",
    "# We cast our normalized training and test data into a new dataframe and display.\n",
    "X_train_norm = pd.DataFrame(X_train_norm, columns = X_train.columns)\n",
    "X_test_norm = pd.DataFrame(X_test_norm, columns = X_test.columns)\n",
    "\n",
    "# We initialize a new knn classifier instance without defining the hypterparameter yet.\n",
    "knn_norm = KNeighborsClassifier(n_neighbors=10) #5.\n",
    "\n",
    "# We train the algorithm with our normalized training data.\n",
    "knn_norm.fit(X_train_norm, y_train) #6.\n",
    "\n",
    "# We predict the class of our normalized test data.\n",
    "y_pred_norm = knn_norm.predict(X_test_norm) #7."
   ]
  },
  {
   "cell_type": "markdown",
   "id": "60d42bfd-93dd-40a0-8f92-5140b7820157",
   "metadata": {},
   "source": [
    "## Evaluation Metrics"
   ]
  },
  {
   "cell_type": "code",
   "execution_count": 23,
   "id": "557d729b-c19c-4326-880b-d56948779e6d",
   "metadata": {},
   "outputs": [
    {
     "name": "stdout",
     "output_type": "stream",
     "text": [
      "Accuracy =  0.6371951219512195\n",
      "Precision =  0.5306122448979592\n",
      "Recall =  0.21311475409836064\n"
     ]
    }
   ],
   "source": [
    "accuracy_norm = knn_norm.score(X_test_norm, y_test)\n",
    "precision_norm = precision_score(y_test, y_pred_norm, average='binary')\n",
    "recall_norm = recall_score(y_test, y_pred_norm, average='binary')\n",
    "print(f'Accuracy = ', accuracy_norm)\n",
    "print(f\"Precision = \", precision_norm)\n",
    "print(f\"Recall = \", recall_norm)"
   ]
  },
  {
   "cell_type": "code",
   "execution_count": 24,
   "id": "56016af8-19cf-4109-b9f2-207a7695d961",
   "metadata": {},
   "outputs": [
    {
     "name": "stdout",
     "output_type": "stream",
     "text": [
      "Accuracy improvement = 16.75977653631284\n",
      "Precision improvement = 47.05539358600584\n",
      "Recall improvement = -25.71428571428572\n"
     ]
    }
   ],
   "source": [
    "print(f\"Accuracy improvement = {(accuracy_norm - accuracy) / accuracy * 100}\")\n",
    "print(f\"Precision improvement = {(precision_norm - precision) / precision * 100}\")\n",
    "print(f\"Recall improvement = {(recall_norm - recall) / recall * 100}\")"
   ]
  },
  {
   "cell_type": "markdown",
   "id": "7bff3908-9508-4b14-ba76-5a6e5bef1171",
   "metadata": {},
   "source": [
    "- The feauture scaling improved the accuracy by 16%, indicating less positve and negative falsity in the algorithm.\n",
    "- The precision was significantly increased by 47%, indicating that the distinction between true positive and false positive observations was enhanced. Apparently less water samples are classified as potable while they are actually not, therefore boosting the safety of water consumption.\n",
    "- The recall deteriorated by 25%, indicating that potable water is recognized less frequent, which will lead to more water wastage.\n",
    "\n",
    "Overall the experiment seems to have been skewed in favor of the false negative classification by applying feature scaling."
   ]
  },
  {
   "cell_type": "markdown",
   "id": "34682552-9cde-4452-b772-742e9d4d064e",
   "metadata": {},
   "source": [
    "# Feature Selection"
   ]
  },
  {
   "cell_type": "code",
   "execution_count": 33,
   "id": "f3d0139d-1f7a-44fe-82a1-3f571cc8cea6",
   "metadata": {},
   "outputs": [
    {
     "data": {
      "image/png": "[encoded data removed]",
      "text/plain": [
       "<Figure size 1000x1000 with 2 Axes>"
      ]
     },
     "metadata": {},
     "output_type": "display_data"
    }
   ],
   "source": [
    "corr = np.abs(df.corr())\n",
    "\n",
    "#Set up mask for triangle representation\n",
    "mask = np.zeros_like(corr, dtype = bool)\n",
    "mask[np.triu_indices_from(mask)] = True\n",
    "\n",
    "# Set up the matplotlib figure\n",
    "f, ax = plt.subplots(figsize = (10, 10))\n",
    "\n",
    "# Generate a custom diverging colormap\n",
    "cmap = sns.diverging_palette(220, 10, as_cmap=True)\n",
    "\n",
    "# Draw the heatmap with the mask and correct aspect ratio\n",
    "sns.heatmap(corr, mask=mask,  vmax=1,square=True, linewidths=.5, cbar_kws={\"shrink\": .5},annot = corr)\n",
    "\n",
    "plt.show()"
   ]
  },
  {
   "cell_type": "markdown",
   "id": "20349240-0215-493f-81ee-4eda023993fc",
   "metadata": {},
   "source": [
    "This correlation heatmap just confirms what we feared - the potability has almost no linear correlation with any of the columns."
   ]
  }
 ],
 "metadata": {
  "kernelspec": {
   "display_name": "Python 3 (ipykernel)",
   "language": "python",
   "name": "python3"
  },
  "language_info": {
   "codemirror_mode": {
    "name": "ipython",
    "version": 3
   },
   "file_extension": ".py",
   "mimetype": "text/x-python",
   "name": "python",
   "nbconvert_exporter": "python",
   "pygments_lexer": "ipython3",
   "version": "3.12.4"
  }
 },
 "nbformat": 4,
 "nbformat_minor": 5
}
